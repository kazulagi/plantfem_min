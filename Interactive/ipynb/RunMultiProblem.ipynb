{
 "cells": [
  {
   "cell_type": "code",
   "execution_count": 1,
   "metadata": {},
   "outputs": [
    {
     "name": "stdout",
     "output_type": "stream",
     "text": [
      "Detecting OS type...\n",
      "OS : Linux\n",
      "Now installing...\n",
      "Successfully Installed!!\n"
     ]
    }
   ],
   "source": [
    "import os\n",
    "import sys\n",
    "sys.path.append(\"./src/PySiCroFClass/SiCroF\")\n",
    "from src.PySiCroFClass.SiCroF import SiCroF"
   ]
  },
  {
   "cell_type": "code",
   "execution_count": 2,
   "metadata": {},
   "outputs": [
    {
     "name": "stdout",
     "output_type": "stream",
     "text": [
      "DomainList : DomainList.txt\n",
      "\n",
      "IfaceList : IfaceList.txt\n",
      "\n"
     ]
    }
   ],
   "source": [
    "world=SiCroF()\n",
    "world.solver.importDomains(\"DomainList.txt\")\n",
    "world.solver.importInterfaces(\"IfaceList.txt\")"
   ]
  },
  {
   "cell_type": "code",
   "execution_count": 3,
   "metadata": {},
   "outputs": [
    {
     "name": "stdout",
     "output_type": "stream",
     "text": [
      "SimulationTime : 2.0sec\n",
      "\n",
      "TimeStep : 4 steps\n",
      "\n",
      "Successfully exported : log_solver.f90\n",
      "Now Running Simulation...\n",
      "Simulation is done!\n"
     ]
    }
   ],
   "source": [
    "world.solver.setSimulationTime(2.0)\n",
    "world.solver.setTimeStep(4)\n",
    "world.solver.run()"
   ]
  },
  {
   "cell_type": "code",
   "execution_count": null,
   "metadata": {},
   "outputs": [],
   "source": []
  }
 ],
 "metadata": {
  "kernelspec": {
   "display_name": "Python 3",
   "language": "python",
   "name": "python3"
  },
  "language_info": {
   "codemirror_mode": {
    "name": "ipython",
    "version": 3
   },
   "file_extension": ".py",
   "mimetype": "text/x-python",
   "name": "python",
   "nbconvert_exporter": "python",
   "pygments_lexer": "ipython3",
   "version": "3.6.8"
  }
 },
 "nbformat": 4,
 "nbformat_minor": 2
}
